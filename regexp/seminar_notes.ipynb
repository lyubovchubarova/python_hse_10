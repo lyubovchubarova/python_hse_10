{
  "cells": [
    {
      "cell_type": "markdown",
      "metadata": {
        "id": "coN6kYaqoGgY"
      },
      "source": [
        "# Регулярные выражения в Python и pandas"
      ]
    },
    {
      "cell_type": "markdown",
      "metadata": {
        "id": "iZ9F322toGga"
      },
      "source": [
        "<a href=\"https://colab.research.google.com/github/dm-fedorov/pandas_basic/blob/master/кейсы%20по%20анализу%20данных/Регулярные_выражения_в_pandas.ipynb\" target=\"_blank\"><img align=\"left\" src=\"https://colab.research.google.com/assets/colab-badge.svg\" alt=\"Open in Colab\" title=\"Open and Execute in Google Colaboratory\"></a>"
      ]
    },
    {
      "cell_type": "code",
      "execution_count": 14,
      "metadata": {
        "id": "TVm_XF_LoGgb"
      },
      "outputs": [],
      "source": [
        "import re"
      ]
    },
    {
      "cell_type": "markdown",
      "metadata": {
        "id": "Khs_GwMyoGgb"
      },
      "source": [
        "Одна из простейших функций регулярных выражений [`fullmatch`](https://docs.python.org/3/library/re.html#re.fullmatch) проверяет, совпадает ли шаблон, заданный первым аргументом, со всей строкой, заданной вторым аргументом."
      ]
    },
    {
      "cell_type": "code",
      "execution_count": 25,
      "metadata": {
        "id": "vsIgx0ZooGgc"
      },
      "outputs": [],
      "source": [
        "pattern = '02'"
      ]
    },
    {
      "cell_type": "code",
      "source": [
        "idx = re.search(pattern, '022151102').span()\n",
        "'022151102'[idx[0]:idx[1]]"
      ],
      "metadata": {
        "colab": {
          "base_uri": "https://localhost:8080/",
          "height": 56
        },
        "id": "r1dW1GPyi1lU",
        "outputId": "9ec8166e-e68d-4fb3-a41a-ae82e2d225dc"
      },
      "execution_count": 28,
      "outputs": [
        {
          "output_type": "execute_result",
          "data": {
            "text/plain": [
              "'02'"
            ],
            "application/vnd.google.colaboratory.intrinsic+json": {
              "type": "string"
            }
          },
          "metadata": {},
          "execution_count": 28
        }
      ]
    },
    {
      "cell_type": "code",
      "source": [
        "re.findall(pattern, '00000000')"
      ],
      "metadata": {
        "colab": {
          "base_uri": "https://localhost:8080/"
        },
        "id": "xKljDGxhjYvM",
        "outputId": "a19c5fcc-a140-4776-868d-cc13d8710fb0"
      },
      "execution_count": 30,
      "outputs": [
        {
          "output_type": "execute_result",
          "data": {
            "text/plain": [
              "[]"
            ]
          },
          "metadata": {},
          "execution_count": 30
        }
      ]
    },
    {
      "cell_type": "code",
      "execution_count": 24,
      "metadata": {
        "id": "5zxYUsFPoGgc",
        "outputId": "9acd9a4e-55f6-4932-e125-c9642425097f",
        "colab": {
          "base_uri": "https://localhost:8080/"
        }
      },
      "outputs": [
        {
          "output_type": "stream",
          "name": "stdout",
          "text": [
            "No match\n"
          ]
        }
      ],
      "source": [
        "if re.fullmatch(pattern, '02215'):\n",
        "  print('Match' )\n",
        "else:\n",
        "  print('No match')"
      ]
    },
    {
      "cell_type": "code",
      "execution_count": 21,
      "metadata": {
        "id": "gq_SfK2YoGgc",
        "outputId": "d32d25fc-4fbc-4c58-d29b-d5791ef23c63",
        "colab": {
          "base_uri": "https://localhost:8080/"
        }
      },
      "outputs": [
        {
          "output_type": "stream",
          "name": "stdout",
          "text": [
            "No match\n"
          ]
        }
      ],
      "source": [
        "if re.fullmatch(pattern, '51220'):\n",
        "  print('Match' )\n",
        "else:\n",
        "  print('No match')"
      ]
    },
    {
      "cell_type": "markdown",
      "metadata": {
        "id": "DN2MrE_0oGgc"
      },
      "source": [
        "Первым аргументом функции является регулярное выражение — шаблон, для которого проверяется совпадение в строке. Любая строка может быть регулярным выражением. Значение переменной `pattern` `'02215'` состоит из цифровых литералов, которые совпадают только сами с собой в заданном порядке. Во втором аргументе передается строка, с которой должен полностью совпасть шаблон.\n",
        "\n",
        "Если шаблон из первого аргумента совпадает со строкой из второго аргумента, `fullmatch` возвращает объект с текстом совпадения, который интерпретируется как `True`.\n",
        "\n",
        "Во фрагменте второй аргумент содержит те же цифры, но эти цифры следуют в другом порядке. Таким образом, совпадения нет, а `fullmatch` возвращает `None`, что интерпретируется как `False`."
      ]
    },
    {
      "cell_type": "markdown",
      "source": [
        "## Метасимволы"
      ],
      "metadata": {
        "id": "KNbmCaLxKcXV"
      }
    },
    {
      "cell_type": "markdown",
      "metadata": {
        "id": "GBBIJVlsoGgc"
      },
      "source": [
        "Регулярные выражения обычно содержат различные специальные символы, которые называются метасимволами:\n",
        "\n",
        "`[] {} () \\ * + ^ $ ? . |`"
      ]
    },
    {
      "cell_type": "code",
      "source": [
        "s = '9abcd'\n",
        "re.search('\\d', s)"
      ],
      "metadata": {
        "colab": {
          "base_uri": "https://localhost:8080/"
        },
        "id": "KEK4qpMIkJti",
        "outputId": "901f3437-6f39-4728-d44a-598827968ba7"
      },
      "execution_count": 32,
      "outputs": [
        {
          "output_type": "execute_result",
          "data": {
            "text/plain": [
              "<re.Match object; span=(0, 1), match='9'>"
            ]
          },
          "metadata": {},
          "execution_count": 32
        }
      ]
    },
    {
      "cell_type": "markdown",
      "source": [
        "Ниже перечислены некоторые предопределенные символьные классы и группы символов, с которыми они совпадают.\n",
        "\n",
        "- `\\d` Любая цифра `(0–9)`\n",
        "- `\\D` Любой символ, кроме цифр\n",
        "- `\\s` Любой символ-пропуск (пробелы, табуляции, новые строки)\n",
        "- `\\S` Любой символ, кроме пропусков\n",
        "- `\\w` Любой символ слова (также называемый алфавитно-цифровым символом) — то есть любая буква верхнего или нижнего регистра, любая цифра или символ подчеркивания\n",
        "- `\\W` Любой символ, кроме символов слов\n",
        "\n",
        "Чтобы любой метасимвол совпадал со своим литеральным значением, поставьте перед ним символ `\\` (обратный слеш). Например, `\\\\` совпадает с обратным слешем `( \\ )`, а `\\$` совпадает со знаком `$`."
      ],
      "metadata": {
        "id": "hWy6_LVKM8S9"
      }
    },
    {
      "cell_type": "markdown",
      "source": [
        "Квадратные скобки `[]` определяют *пользовательский символьный класс*, совпадающий с одним символом. Так, `[aeiou]` совпадает с гласной буквой нижнего регистра, `[A-Z]` — с буквой верхнего регистра, `[a-z]` — с буквой нижнего регистра и `[a-zA-Z]` — с любой буквой нижнего (верхнего) регистра."
      ],
      "metadata": {
        "id": "PymWgMn8NDyq"
      }
    },
    {
      "cell_type": "code",
      "source": [
        "pattern = r'[]'\n",
        "s = 'rtyu!G9!гАЮйую!'\n",
        "re.findall(pattern, s)"
      ],
      "metadata": {
        "colab": {
          "base_uri": "https://localhost:8080/"
        },
        "id": "_Ipi-EBlkiUa",
        "outputId": "3c4efd71-a674-41cc-f4a5-af3308c29536"
      },
      "execution_count": 51,
      "outputs": [
        {
          "output_type": "execute_result",
          "data": {
            "text/plain": [
              "[]"
            ]
          },
          "metadata": {},
          "execution_count": 51
        }
      ]
    },
    {
      "cell_type": "markdown",
      "metadata": {
        "id": "V2wt2hpGoGgd"
      },
      "source": [
        "С метасимвола `\\` начинается каждый из предварительно определенных *символьных классов*, каждый из которых совпадает с символом из конкретного набора.\n",
        "\n",
        "Проверим, что почтовый код состоит из пяти цифр:"
      ]
    },
    {
      "cell_type": "code",
      "execution_count": 33,
      "metadata": {
        "id": "RndibBn3oGgd",
        "outputId": "9714b23b-2081-4234-f99c-b4afa698da80",
        "colab": {
          "base_uri": "https://localhost:8080/"
        }
      },
      "outputs": [
        {
          "output_type": "stream",
          "name": "stdout",
          "text": [
            "Valid\n"
          ]
        }
      ],
      "source": [
        "if re.fullmatch(r'\\d{5}', '02215'):\n",
        "  print('Valid')\n",
        "else:\n",
        "  print('Invalid')"
      ]
    },
    {
      "cell_type": "code",
      "execution_count": 34,
      "metadata": {
        "id": "Muu5EuHqoGgd",
        "outputId": "43389425-20a9-4c13-8bf1-36b628ea4114",
        "colab": {
          "base_uri": "https://localhost:8080/"
        }
      },
      "outputs": [
        {
          "output_type": "stream",
          "name": "stdout",
          "text": [
            "Invalid\n"
          ]
        }
      ],
      "source": [
        "if re.fullmatch(r'\\d{5}', '9876'):\n",
        "  print('Valid')\n",
        "else:\n",
        "  print('Invalid')"
      ]
    },
    {
      "cell_type": "markdown",
      "metadata": {
        "id": "7hPsdns0oGgd"
      },
      "source": [
        "В регулярном выражении `\\d{5}` `\\d` является символьным классом, представляющим цифру `(0–9)`.\n",
        "\n",
        "*Символьный класс* — служебная последовательность в регулярном выражении, совпадающая с одним символом. Чтобы совпадение могло состоять из нескольких символов, за символьным классом следует указать *квантификатор*.\n",
        "\n",
        "Квантификатор `{5}` повторяет `\\d` пять раз, как если бы мы использовали запись `\\d\\d\\d\\d\\d` для совпадения с пятью последовательными цифрами.\n",
        "\n",
        "Во фрагменте `fullmatch` возвращает `None`, потому что `'9876'` совпадает только с четырьмя последовательными цифровыми символами."
      ]
    },
    {
      "cell_type": "markdown",
      "metadata": {
        "id": "Se7LQNanoGge"
      },
      "source": [
        "\n",
        "Выполним простую проверку имени — последовательности букв без пробелов или знаков препинания. Проверим, что последовательность начинается с буквы верхнего регистра `( A–Z )`, а за ней следует *произвольное количество* букв нижнего регистра `( a–z )`:"
      ]
    },
    {
      "cell_type": "code",
      "execution_count": null,
      "metadata": {
        "id": "G2Obt7dwoGge"
      },
      "outputs": [],
      "source": [
        "if re.fullmatch('[A-Z][a-z]*', 'Wally'):\n",
        "  print('Valid')\n",
        "else:\n",
        "  print('Invalid')"
      ]
    },
    {
      "cell_type": "code",
      "execution_count": null,
      "metadata": {
        "id": "0wTevYC1oGge"
      },
      "outputs": [],
      "source": [
        "if re.fullmatch('[A-Z][a-z]*', 'eva'):\n",
        "  print('Valid')\n",
        "else:\n",
        "  print('Invalid')"
      ]
    },
    {
      "cell_type": "markdown",
      "source": [
        "## Квантификаторы\n",
        "\n"
      ],
      "metadata": {
        "id": "npwFqkeOK5ad"
      }
    },
    {
      "cell_type": "markdown",
      "source": [
        "`{number}` — точное количество вхождений;\n",
        "\n",
        "`{min,max}`— диапазон вхождений от min до max;\n",
        "\n",
        "`?` — ноль или одно вхождение (эквивалентно {0,1});\n",
        "\n",
        "`+` — одно или более одно вхождения (эквивалентно {1,});\n",
        "\n",
        "`*` — ноль, одно или более одно вхождения (эквивалентно {0,})\n"
      ],
      "metadata": {
        "id": "wP48jYTuNxvX"
      }
    },
    {
      "cell_type": "markdown",
      "metadata": {
        "id": "abam44NSoGge"
      },
      "source": [
        "Имя может содержать неизвестное заранее количество букв.\n",
        "\n",
        "Квантификатор `*` совпадает с *нулем и более вхождениями* подвыражения, находящегося слева (в данном случае `[a-z]`). Таким образом, `[A-Z][a-z]*` совпадает с буквой верхнего регистра, за которой следует нуль и более букв нижнего регистра (например, `'Amanda'` , `'Bo'` и даже `'E'`).\n"
      ]
    },
    {
      "cell_type": "code",
      "source": [
        "pattern = r'[а-яё]*$'\n",
        "s = 'мама мыла кое-какую раму'\n",
        "re.findall(pattern, s)"
      ],
      "metadata": {
        "colab": {
          "base_uri": "https://localhost:8080/"
        },
        "id": "lKTiZs8QmwMT",
        "outputId": "ae892858-d470-42e1-e30b-e7a75671c075"
      },
      "execution_count": 61,
      "outputs": [
        {
          "output_type": "execute_result",
          "data": {
            "text/plain": [
              "['мама', '', 'мыла', '', 'кое', '', 'какую', '', 'раму', '']"
            ]
          },
          "metadata": {},
          "execution_count": 61
        }
      ]
    },
    {
      "cell_type": "code",
      "source": [
        "#написать регулярное выражение, которое извлекает все года 20 века\n",
        "s = 'Это было в 2000 году, она родилась в 1964 году, предпосылки революции в 1861, кризис Европы 1323 года, перестройка 1985 года, 1932'\n",
        "\n",
        "pattern = r'20\\d{2}|19\\d{2}'\n",
        "\n",
        "re.findall(pattern, s)"
      ],
      "metadata": {
        "colab": {
          "base_uri": "https://localhost:8080/"
        },
        "id": "_izrPW7_piW0",
        "outputId": "8ce750f3-d705-4a8a-bc3f-ea0ab22d49b4"
      },
      "execution_count": 67,
      "outputs": [
        {
          "output_type": "execute_result",
          "data": {
            "text/plain": [
              "['2000', '1964', '1985', '1932']"
            ]
          },
          "metadata": {},
          "execution_count": 67
        }
      ]
    },
    {
      "cell_type": "code",
      "source": [
        "re."
      ],
      "metadata": {
        "id": "chQRU-8-s_i5"
      },
      "execution_count": null,
      "outputs": []
    },
    {
      "cell_type": "code",
      "source": [
        "import re\n",
        "l = [\n",
        "    'readme.md',\n",
        "    'document.pdf',\n",
        "    'image.png',\n",
        "    'music.mp4',\n",
        "    'manual.pdf']\n",
        "\n",
        "pattern = r'\\w+\\.pdf'\n",
        "\n",
        "for i in l:\n",
        "  print(re.fullmatch(pattern, i))"
      ],
      "metadata": {
        "colab": {
          "base_uri": "https://localhost:8080/"
        },
        "id": "V3tR-hc6s1v4",
        "outputId": "edf3f77d-307b-4d60-f523-2341b8c72300"
      },
      "execution_count": 74,
      "outputs": [
        {
          "output_type": "stream",
          "name": "stdout",
          "text": [
            "None\n",
            "<re.Match object; span=(0, 12), match='document.pdf'>\n",
            "None\n",
            "None\n",
            "<re.Match object; span=(0, 10), match='manual.pdf'>\n"
          ]
        }
      ]
    },
    {
      "cell_type": "code",
      "source": [
        "import re\n",
        "\n",
        "s = 'в 11.12.2021, 56.55.2005, 01.03.2012, 12.14.2025'\n",
        "\n",
        "pattern = r'(0[1-9]|[12]\\d|3[01])\\.(0[1-9]|1[0-2])\\.([1-9]\\d{3})'\n",
        "\n",
        "for elem in re.finditer(pattern, s):\n",
        "  print('elem.span()' ,elem.span())\n",
        "  idx = elem.span()\n",
        "  print(s[idx[0]:idx[1]])"
      ],
      "metadata": {
        "colab": {
          "base_uri": "https://localhost:8080/"
        },
        "id": "3wcjPUmozDoE",
        "outputId": "c52236f0-7dab-4ccb-fde3-4da37d903e3c"
      },
      "execution_count": 98,
      "outputs": [
        {
          "output_type": "stream",
          "name": "stdout",
          "text": [
            "elem.span() (2, 12)\n",
            "11.12.2021\n",
            "elem.span() (26, 36)\n",
            "01.03.2012\n"
          ]
        }
      ]
    },
    {
      "cell_type": "code",
      "source": [
        "#найти все даты dd.mm.yyyy\n",
        "\n",
        "s = 'в 11.12.2021, 56.55.2005, 01.03.2012, 12.14.2025'\n",
        "#\\.\\.(1\\d{3})\n",
        "\n",
        "pattern = r'(0[1-9]|[12][0-9]|3[01])\\.(0[1-9]|1[0-2])\\.([12]\\d{3})'\n",
        "\n",
        "re.findall(pattern, s)"
      ],
      "metadata": {
        "colab": {
          "base_uri": "https://localhost:8080/"
        },
        "id": "5cL3_wIqvRq0",
        "outputId": "06d46f60-9047-47ed-8e5f-70ae69210884"
      },
      "execution_count": 88,
      "outputs": [
        {
          "output_type": "execute_result",
          "data": {
            "text/plain": [
              "[('11', '12', '2021'), ('01', '03', '2012')]"
            ]
          },
          "metadata": {},
          "execution_count": 88
        }
      ]
    },
    {
      "cell_type": "code",
      "source": [
        "#извлечь текст из html-тегов\n",
        "\n",
        "test_str1 = \"<html>хотим это извлечь</html>\"\n",
        "test_str2 = \"не хотим<h1>ЭТО ХОТИМ </h1> НЕ ХОТИМ\"\n",
        "test_str3 = \"не хотим <a>ЭТО ХОТИМ!!!!!!! </a> <p>НЕ ХОТИМ\"\n",
        "\n",
        "pattern = r\"(<\\w+>)([\\w\\s.!?,:]+)(</\\w+>)\"\n",
        "\n",
        "re.findall(pattern, test_str2)"
      ],
      "metadata": {
        "colab": {
          "base_uri": "https://localhost:8080/"
        },
        "id": "nnyQmSfV0gGb",
        "outputId": "90bd6e6a-6d90-4cf3-e13e-8ac465bf7362"
      },
      "execution_count": 122,
      "outputs": [
        {
          "output_type": "execute_result",
          "data": {
            "text/plain": [
              "[('<h1>', 'ЭТО ХОТИМ ', '</h1>')]"
            ]
          },
          "metadata": {},
          "execution_count": 122
        }
      ]
    },
    {
      "cell_type": "code",
      "source": [
        "text = \"\"\"His next class is art. www.google.com\n",
        "He draws on paper with crayons and pencils and sometimes uses a ruler.\n",
        "Lucas likes art. It is his favorite class.\n",
        "His third class https://colab.research.google.com is science.\n",
        "This class is very hard for Lucas to figure out, but he gets to work with his classmates a lot, which he likes to do.\n",
        "His friend http://ok.ru , Kyle, works with Lucas in science class, and they have fun.\n",
        "Then Lucas gets his break for lunch. He sits with Kyle while he eats.\n",
        "The principal, or the headmaster as some call him, likes to walk instagram.com around and talk to students during lunch to check that they are all behaving.\n",
        "\"\"\"\n",
        "\n",
        "pattern = r'(https?://|www\\.)?([\\w+\\.]+)(com|ru)'\n",
        "\n",
        "print(re.findall(pattern, text))\n"
      ],
      "metadata": {
        "colab": {
          "base_uri": "https://localhost:8080/"
        },
        "id": "4RkB_7Hj4jjV",
        "outputId": "8e9a837d-0dee-4dfe-e67c-7db0ef27b4c6"
      },
      "execution_count": 133,
      "outputs": [
        {
          "output_type": "stream",
          "name": "stdout",
          "text": [
            "[('www.', 'google.', 'com'), ('https://', 'colab.research.google.', 'com'), ('http://', 'ok.', 'ru'), ('', 'instagram.', 'com')]\n"
          ]
        }
      ]
    },
    {
      "cell_type": "code",
      "source": [
        "for elem in re.finditer(pattern, text):\n",
        "  idx = elem.span()\n",
        "  print(text[idx[0]:idx[1]])"
      ],
      "metadata": {
        "colab": {
          "base_uri": "https://localhost:8080/"
        },
        "id": "gFQOrZfh5W5g",
        "outputId": "2c569c72-9a94-4710-dcb5-574499452566"
      },
      "execution_count": 132,
      "outputs": [
        {
          "output_type": "stream",
          "name": "stdout",
          "text": [
            "www.google.com\n",
            "https://colab.research.google.com\n",
            "http://ok.ru\n",
            "instagram.com\n"
          ]
        }
      ]
    },
    {
      "cell_type": "code",
      "execution_count": null,
      "metadata": {
        "id": "WFentUTNoGge"
      },
      "outputs": [],
      "source": [
        "if re.fullmatch('[^a-z]', 'A'):\n",
        "  print('Match')\n",
        "else:\n",
        "  print('No match')"
      ]
    },
    {
      "cell_type": "code",
      "execution_count": null,
      "metadata": {
        "id": "Lg0Cby4uoGge"
      },
      "outputs": [],
      "source": [
        "if re.fullmatch('[^a-z]', 'a'):\n",
        "  print('Match')\n",
        "else:\n",
        "  print('No match')"
      ]
    },
    {
      "cell_type": "markdown",
      "metadata": {
        "id": "RUKPUDt1oGgf"
      },
      "source": [
        "Квантификаторы `*` и `+` являются максимальными (*\"жадными\"*) — они совпадают с максимально возможным количеством символов.\n",
        "\n",
        "Таким образом, регулярные выражения `[A-Z][a-z]+` совпадают с именами `'Al'` , `'Eva'` , `'Samantha'` , `'Benjamin'` и любыми другими словами, начинающимися с буквы верхнего регистра, за которой следует хотя бы одна буква нижнего регистра."
      ]
    },
    {
      "cell_type": "markdown",
      "metadata": {
        "id": "0np04pj1oGgf"
      },
      "source": [
        "Квантификатор `?` совпадает *с нулем или одним вхождением* подвыражения:"
      ]
    },
    {
      "cell_type": "code",
      "execution_count": null,
      "metadata": {
        "id": "LoE0P-DOoGgf",
        "outputId": "d31af320-ca97-4b04-a266-53493567823c"
      },
      "outputs": [
        {
          "data": {
            "text/plain": [
              "'Match'"
            ]
          },
          "execution_count": 15,
          "metadata": {},
          "output_type": "execute_result"
        }
      ],
      "source": [
        "'Match' if re.fullmatch('labell?ed', 'labelled') else 'No match'"
      ]
    },
    {
      "cell_type": "code",
      "execution_count": null,
      "metadata": {
        "id": "tsgubCwnoGgg",
        "outputId": "1f150803-aaf3-47c5-d827-0a7092ed269d"
      },
      "outputs": [
        {
          "data": {
            "text/plain": [
              "'Match'"
            ]
          },
          "execution_count": 16,
          "metadata": {},
          "output_type": "execute_result"
        }
      ],
      "source": [
        "'Match' if re.fullmatch('labell?ed', 'labeled') else 'No match'"
      ]
    },
    {
      "cell_type": "code",
      "execution_count": null,
      "metadata": {
        "id": "mTkkmDYqoGgh",
        "outputId": "587d2dd3-a57c-408e-9eb7-f2bba0168a4f"
      },
      "outputs": [
        {
          "data": {
            "text/plain": [
              "'No match'"
            ]
          },
          "execution_count": 17,
          "metadata": {},
          "output_type": "execute_result"
        }
      ],
      "source": [
        "'Match' if re.fullmatch('labell?ed', 'labellled') else 'No match'"
      ]
    },
    {
      "cell_type": "markdown",
      "metadata": {
        "id": "if47C8nRoGgh"
      },
      "source": [
        "Регулярное выражение `labell?ed` совпадает со словами `labelled` и `labeled` , но не с ошибочно написанным словом `labellled`. В каждом из приведенных выше фрагментов первые пять литеральных символов регулярного выражения `( label )` совпадают с первыми пятью символами второго аргумента. Часть `l?` означает, что оставшимся литеральным символам `ed` может предшествовать нуль или один символ `l` .\n",
        "\n",
        "Квантификатор `{n,}` совпадает *не менее чем* с `n` вхождениями подвыражения. Следующее регулярное выражение совпадает со строками, содержащими не менее трех цифр:"
      ]
    },
    {
      "cell_type": "code",
      "execution_count": null,
      "metadata": {
        "id": "3MuEwZSJoGgh",
        "outputId": "78a94f87-9e9b-4fe0-f6a8-c1490b5c9ce5"
      },
      "outputs": [
        {
          "data": {
            "text/plain": [
              "'Match'"
            ]
          },
          "execution_count": 18,
          "metadata": {},
          "output_type": "execute_result"
        }
      ],
      "source": [
        "'Match' if re.fullmatch(r'\\d{3,}', '123') else 'No match'"
      ]
    },
    {
      "cell_type": "code",
      "execution_count": null,
      "metadata": {
        "id": "TtzXbmOzoGgi",
        "outputId": "8db97346-f231-4592-8d9a-6d5ad275d7ce"
      },
      "outputs": [
        {
          "data": {
            "text/plain": [
              "'Match'"
            ]
          },
          "execution_count": 19,
          "metadata": {},
          "output_type": "execute_result"
        }
      ],
      "source": [
        "'Match' if re.fullmatch(r'\\d{3,}', '1234567890') else 'No match'"
      ]
    },
    {
      "cell_type": "code",
      "execution_count": null,
      "metadata": {
        "id": "2iBPW5L0oGgi",
        "outputId": "13b45980-4fc2-4f8c-aa44-82a5f4caee5f"
      },
      "outputs": [
        {
          "data": {
            "text/plain": [
              "'No match'"
            ]
          },
          "execution_count": 20,
          "metadata": {},
          "output_type": "execute_result"
        }
      ],
      "source": [
        "'Match' if re.fullmatch(r'\\d{3,}', '12') else 'No match'"
      ]
    },
    {
      "cell_type": "markdown",
      "metadata": {
        "id": "_320H30JoGgi"
      },
      "source": [
        "Чтобы совпадение включало от `n` до `m` (включительно) вхождений, используйте квантификатор `{n,m}`. Следующее регулярное выражение совпадает со строками, содержащими от `3` до `6` цифр:"
      ]
    },
    {
      "cell_type": "code",
      "execution_count": null,
      "metadata": {
        "id": "O0rcthvaoGgi",
        "outputId": "b274b60f-29e4-438e-d14c-7bce4dbaa265"
      },
      "outputs": [
        {
          "data": {
            "text/plain": [
              "'Match'"
            ]
          },
          "execution_count": 21,
          "metadata": {},
          "output_type": "execute_result"
        }
      ],
      "source": [
        "'Match' if re.fullmatch(r'\\d{3,6}', '123') else 'No match'"
      ]
    },
    {
      "cell_type": "code",
      "execution_count": null,
      "metadata": {
        "id": "2mqDsZpFoGgj",
        "outputId": "863e3d41-7d87-44d6-c216-d10934e7264c"
      },
      "outputs": [
        {
          "data": {
            "text/plain": [
              "'Match'"
            ]
          },
          "execution_count": 22,
          "metadata": {},
          "output_type": "execute_result"
        }
      ],
      "source": [
        "'Match' if re.fullmatch(r'\\d{3,6}', '123456') else 'No match'"
      ]
    },
    {
      "cell_type": "code",
      "execution_count": null,
      "metadata": {
        "id": "XJapf5hAoGgj",
        "outputId": "32159fec-9d20-4edc-9d73-1f1f1204739c"
      },
      "outputs": [
        {
          "data": {
            "text/plain": [
              "'No match'"
            ]
          },
          "execution_count": 23,
          "metadata": {},
          "output_type": "execute_result"
        }
      ],
      "source": [
        "'Match' if re.fullmatch(r'\\d{3,6}', '1234567') else 'No match'"
      ]
    },
    {
      "cell_type": "code",
      "execution_count": null,
      "metadata": {
        "id": "Y-57bKCnoGgj",
        "outputId": "4ad91dc9-0ed1-49c4-fee4-5eeb420dbb70"
      },
      "outputs": [
        {
          "data": {
            "text/plain": [
              "'No match'"
            ]
          },
          "execution_count": 24,
          "metadata": {},
          "output_type": "execute_result"
        }
      ],
      "source": [
        "'Match' if re.fullmatch(r'\\d{3,6}', '12') else 'No match'"
      ]
    },
    {
      "cell_type": "markdown",
      "source": [
        "## Еще методы"
      ],
      "metadata": {
        "id": "bk9V-7KmPwzv"
      }
    },
    {
      "cell_type": "code",
      "source": [
        "contact = 'Wally White, Home: 555-555-1234, Work: 555-555-4321'\n",
        "re.findall(r'\\d{3}-\\d{3}-\\d{4}', contact) #ищем все вхождения паттерна"
      ],
      "metadata": {
        "id": "VILtHqnwP0kW"
      },
      "execution_count": null,
      "outputs": []
    },
    {
      "cell_type": "code",
      "source": [
        "re.sub(r'\\t', ', ', '1\\t2\\t3\\t4') #заменяем одно на другое\n",
        "# порядок аргументов pattern, replacement, string"
      ],
      "metadata": {
        "id": "zc8ZHjDmP8YX"
      },
      "execution_count": null,
      "outputs": []
    },
    {
      "cell_type": "code",
      "source": [
        "re.split(r',\\s*', '1, 2, 3,4,        5,6,7,8') #разбивает строку по паттерну"
      ],
      "metadata": {
        "id": "O21biiJbQKfB"
      },
      "execution_count": null,
      "outputs": []
    },
    {
      "cell_type": "markdown",
      "source": [
        "## Задания"
      ],
      "metadata": {
        "id": "DZ6iCduQOL_y"
      }
    },
    {
      "cell_type": "code",
      "source": [
        "#найти все документы pdf в списке\n",
        "\n",
        "l = [\n",
        "    'readme.md',\n",
        "    'document.pdf'\n",
        "    'image.png',\n",
        "    'music.mp4',\n",
        "    'manual.pdf']"
      ],
      "metadata": {
        "id": "H9LgbcEAOO46"
      },
      "execution_count": null,
      "outputs": []
    },
    {
      "cell_type": "code",
      "source": [
        "#Напишите регулярное выражение, которое находит весёлые смайлики и не находит грустных.\n",
        "\n",
        "#Весёлые: :-), :), (:, (-:, :D, :-P, ;) и прочее\n",
        "#Грустные: :(, :c, :-/ и прочее"
      ],
      "metadata": {
        "id": "psJjbbfXRUaF"
      },
      "execution_count": null,
      "outputs": []
    },
    {
      "cell_type": "code",
      "source": [
        "#извлечь текст из html-тегов\n",
        "\n",
        "test_str1 = \"<html>хотим это извлечь</html>\"\n",
        "test_str2 = \"не хотим<h1>ЭТО ХОТИМ </h1> НЕ ХОТИМ\"\n",
        "test_str2 = \"не хотим<h1>ЭТО ХОТИМ </h1> НЕ ХОТИМ\""
      ],
      "metadata": {
        "id": "g4pQ7GWXOpw7"
      },
      "execution_count": null,
      "outputs": []
    },
    {
      "cell_type": "code",
      "source": [
        "#извлечь названия сайтов\n",
        "text = \"\"\"His next class is art. www.google.com\n",
        "He draws on paper with crayons and pencils and sometimes uses a ruler.\n",
        "Lucas likes art. It is his favorite class.\n",
        "His third class https://colab.research.google.com is science.\n",
        "This class is very hard for Lucas to figure out, but he gets to work with his classmates a lot, which he likes to do.\n",
        "His friend http://ok.ru , Kyle, works with Lucas in science class, and they have fun.\n",
        "Then Lucas gets his break for lunch. He sits with Kyle while he eats.\n",
        "The principal, or the headmaster as some call him, likes to walk instagram.com around and talk to students during lunch to check that they are all behaving.\n",
        "\"\"\""
      ],
      "metadata": {
        "id": "UI6i1jgVQdlT"
      },
      "execution_count": null,
      "outputs": []
    },
    {
      "cell_type": "markdown",
      "source": [
        "## Подробное описание методов"
      ],
      "metadata": {
        "id": "KhDHgncHQZVz"
      }
    },
    {
      "cell_type": "markdown",
      "metadata": {
        "id": "ygOzXZYaoGgk"
      },
      "source": [
        "Модуль `re` предоставляет функцию [`sub`](https://docs.python.org/3/library/re.html#re.sub) для замены совпадений шаблона в строке, а также функцию [`split`](https://docs.python.org/3/library/re.html#re.Pattern.split) для разбиения строки на фрагменты на основании шаблонов."
      ]
    },
    {
      "cell_type": "markdown",
      "metadata": {
        "id": "QxQ2WHieoGgk"
      },
      "source": [
        "По умолчанию функция `sub` модуля `re` заменяет все вхождения шаблона заданным текстом.\n",
        "\n",
        "Преобразуем строку, разделенную табуляциями, в формат с разделением запятыми:"
      ]
    },
    {
      "cell_type": "code",
      "execution_count": null,
      "metadata": {
        "id": "Ki3mjsjqoGgp"
      },
      "outputs": [],
      "source": [
        "import re"
      ]
    },
    {
      "cell_type": "code",
      "execution_count": null,
      "metadata": {
        "id": "W_wUJ5MzoGgp",
        "outputId": "28b432cf-1a1e-4eef-930e-8d912a6b8634"
      },
      "outputs": [
        {
          "data": {
            "text/plain": [
              "'1, 2, 3, 4'"
            ]
          },
          "execution_count": 26,
          "metadata": {},
          "output_type": "execute_result"
        }
      ],
      "source": [
        "re.sub(r'\\t', ', ', '1\\t2\\t3\\t4')"
      ]
    },
    {
      "cell_type": "markdown",
      "metadata": {
        "id": "fdZI_bqyoGgq"
      },
      "source": [
        "Функция `sub` получает три обязательных аргумента:\n",
        "\n",
        "- шаблон для поиска (символ табуляции `'\\t'`);\n",
        "- текст замены ( `', '` );\n",
        "- строка, в которой ведется поиск ( `'1\\t2\\t3\\t4'` ),\n",
        "\n",
        "и возвращает новую строку.\n",
        "\n",
        "Ключевой аргумент `count` может использоваться для определения максимального количества замен:"
      ]
    },
    {
      "cell_type": "code",
      "execution_count": null,
      "metadata": {
        "id": "FdBL-wn8oGgq",
        "outputId": "134e1730-29aa-4eaa-944a-df819455ca17"
      },
      "outputs": [
        {
          "data": {
            "text/plain": [
              "'1, 2, 3\\t4'"
            ]
          },
          "execution_count": 27,
          "metadata": {},
          "output_type": "execute_result"
        }
      ],
      "source": [
        "re.sub(r'\\t', ', ', '1\\t2\\t3\\t4', count=2)"
      ]
    },
    {
      "cell_type": "markdown",
      "metadata": {
        "id": "B7xLYEh_oGgq"
      },
      "source": [
        "Функция `split` разбивает строку на лексемы, используя регулярное выражение для определения ограничителя, и возвращает список строк.\n",
        "\n",
        "Разобьем строку по запятым, за которыми следует `0` или более пропусков — для обозначения пропусков используется символьный класс `\\s` , а `*` обозначает `0` и более вхождений предшествующего подвыражения:"
      ]
    },
    {
      "cell_type": "code",
      "execution_count": null,
      "metadata": {
        "id": "N4VqB_WToGgq",
        "outputId": "22eca196-84f2-438a-d1a2-36accae65853"
      },
      "outputs": [
        {
          "data": {
            "text/plain": [
              "['1', '2', '3', '4', '5', '6', '7', '8']"
            ]
          },
          "execution_count": 28,
          "metadata": {},
          "output_type": "execute_result"
        }
      ],
      "source": [
        "re.split(r',\\s*', '1, 2, 3,4,        5,6,7,8')"
      ]
    },
    {
      "cell_type": "markdown",
      "metadata": {
        "id": "fd3AsADboGgq"
      },
      "source": [
        "Ключевой аргумент `maxsplit` задает максимальное количество разбиений:"
      ]
    },
    {
      "cell_type": "code",
      "execution_count": null,
      "metadata": {
        "id": "BOZK9uo2oGgq",
        "outputId": "d42e1f8f-e627-4e21-f5d2-644eafd8b979"
      },
      "outputs": [
        {
          "data": {
            "text/plain": [
              "['1', '2', '3', '4,            5,6,7,8']"
            ]
          },
          "execution_count": 29,
          "metadata": {},
          "output_type": "execute_result"
        }
      ],
      "source": [
        "re.split(r',\\s*', '1,   2, 3,4,            5,6,7,8', maxsplit=3)"
      ]
    },
    {
      "cell_type": "markdown",
      "metadata": {
        "id": "L7ml1G0MoGgq"
      },
      "source": [
        "В данном случае после трех разбиений четвертая строка содержит остаток исходной строки."
      ]
    },
    {
      "cell_type": "markdown",
      "metadata": {
        "id": "mUPabuK-oGgq"
      },
      "source": [
        "Ранее мы использовали функцию `fullmatch` для определения того, совпала ли вся строка с регулярным выражением. Но существует и ряд других функций поиска совпадений.\n",
        "\n",
        "Функция [`search`](https://docs.python.org/3/library/re.html#re.Pattern.search) ищет в строке *первое вхождение подстроки*, совпадающей с регулярным выражением, и *возвращает объект совпадения* (типа [`SRE_Match`](https://docs.python.org/3/library/re.html#match-objects)), содержащий подстроку с совпадением.\n",
        "\n",
        "Метод [`group`](https://docs.python.org/3/library/re.html#re.Match.group) объекта совпадения возвращает эту подстроку:"
      ]
    },
    {
      "cell_type": "code",
      "execution_count": null,
      "metadata": {
        "id": "SzzGHFhKoGgq"
      },
      "outputs": [],
      "source": [
        "import re"
      ]
    },
    {
      "cell_type": "code",
      "execution_count": null,
      "metadata": {
        "id": "k3m5qvwToGgq"
      },
      "outputs": [],
      "source": [
        "result = re.search('Python', 'Python is fun')"
      ]
    },
    {
      "cell_type": "code",
      "execution_count": null,
      "metadata": {
        "id": "HtdaNr3poGgr",
        "outputId": "feb78a6c-8695-4039-8dce-1aa7026cafc0"
      },
      "outputs": [
        {
          "data": {
            "text/plain": [
              "'Python'"
            ]
          },
          "execution_count": 32,
          "metadata": {},
          "output_type": "execute_result"
        }
      ],
      "source": [
        "result.group() if result else 'not found'"
      ]
    },
    {
      "cell_type": "markdown",
      "metadata": {
        "id": "NGxt4APPoGgr"
      },
      "source": [
        "Функция [`match`](https://docs.python.org/3/library/re.html#re.Pattern.match) ищет совпадение только от начала строки."
      ]
    },
    {
      "cell_type": "markdown",
      "metadata": {
        "id": "4CsHqG8NoGgr"
      },
      "source": [
        "Метасимвол `^` в начале регулярного выражения (и не в квадратных скобках) — якорь, указывающий, что *выражение совпадает только от начала строки*:"
      ]
    },
    {
      "cell_type": "code",
      "execution_count": null,
      "metadata": {
        "id": "jV7P58GToGgr"
      },
      "outputs": [],
      "source": [
        "result = re.search('^Python', 'Python is fun')"
      ]
    },
    {
      "cell_type": "code",
      "execution_count": null,
      "metadata": {
        "id": "p4jb8oXxoGgr",
        "outputId": "4b5ead9a-1189-4879-a773-ee6a29db1352"
      },
      "outputs": [
        {
          "data": {
            "text/plain": [
              "'Python'"
            ]
          },
          "execution_count": 34,
          "metadata": {},
          "output_type": "execute_result"
        }
      ],
      "source": [
        "result.group() if result else 'not found'"
      ]
    },
    {
      "cell_type": "code",
      "execution_count": null,
      "metadata": {
        "id": "BBrmwFuAoGgr"
      },
      "outputs": [],
      "source": [
        "result = re.search('^fun', 'Python is fun')"
      ]
    },
    {
      "cell_type": "code",
      "execution_count": null,
      "metadata": {
        "id": "XRJ-WvxeoGgr",
        "outputId": "d65bd7c8-69c5-4047-c60f-9f28246f6dfe"
      },
      "outputs": [
        {
          "data": {
            "text/plain": [
              "'not found'"
            ]
          },
          "execution_count": 36,
          "metadata": {},
          "output_type": "execute_result"
        }
      ],
      "source": [
        "result.group() if result else 'not found'"
      ]
    },
    {
      "cell_type": "markdown",
      "metadata": {
        "id": "mbr3GfieoGgr"
      },
      "source": [
        "Аналогичным образом символ `$` в конце регулярного выражения является якорем, указывающим, что *выражение совпадает только в конце строки*:"
      ]
    },
    {
      "cell_type": "code",
      "execution_count": null,
      "metadata": {
        "id": "jSbOHnlBoGgr"
      },
      "outputs": [],
      "source": [
        "result = re.search('Python$', 'Python is fun')"
      ]
    },
    {
      "cell_type": "code",
      "execution_count": null,
      "metadata": {
        "id": "z-nc6JmRoGgs",
        "outputId": "d03f58e2-07d5-41fe-8269-6dd34557fd9b"
      },
      "outputs": [
        {
          "data": {
            "text/plain": [
              "'not found'"
            ]
          },
          "execution_count": 38,
          "metadata": {},
          "output_type": "execute_result"
        }
      ],
      "source": [
        "result.group() if result else 'not found'"
      ]
    },
    {
      "cell_type": "code",
      "execution_count": null,
      "metadata": {
        "id": "844JiPPSoGgs"
      },
      "outputs": [],
      "source": [
        "result = re.search('fun$', 'Python is fun')"
      ]
    },
    {
      "cell_type": "code",
      "execution_count": null,
      "metadata": {
        "id": "bfMTODbgoGgs",
        "outputId": "09ef562f-3586-4923-9e34-a4a5731240ed"
      },
      "outputs": [
        {
          "data": {
            "text/plain": [
              "'fun'"
            ]
          },
          "execution_count": 40,
          "metadata": {},
          "output_type": "execute_result"
        }
      ],
      "source": [
        "result.group() if result else 'not found'"
      ]
    },
    {
      "cell_type": "markdown",
      "metadata": {
        "id": "R9Aw03QGoGgs"
      },
      "source": [
        "Функция [`findall`](https://docs.python.org/3/library/re.html#re.Pattern.findall) находит все совпадающие подстроки и возвращает список совпадений.\n",
        "\n",
        "Для примера извлечем все телефонные номера в строке, полагая, что телефонные номера записываются в форме `###-###-####` :"
      ]
    },
    {
      "cell_type": "code",
      "execution_count": null,
      "metadata": {
        "id": "pLcbhRdxoGgs"
      },
      "outputs": [],
      "source": [
        "contact = 'Wally White, Home: 555-555-1234, Work: 555-555-4321'"
      ]
    },
    {
      "cell_type": "code",
      "execution_count": null,
      "metadata": {
        "id": "cRo9QFf8oGgs",
        "outputId": "5d2f4b9b-72f6-415f-9974-ba752730aab3"
      },
      "outputs": [
        {
          "data": {
            "text/plain": [
              "['555-555-1234', '555-555-4321']"
            ]
          },
          "execution_count": 42,
          "metadata": {},
          "output_type": "execute_result"
        }
      ],
      "source": [
        "contact = 'Wally White, Home: 555-555-1234, Work: 555-555-4321'\n",
        "re.findall(r'\\d{3}-\\d{3}-\\d{4}', contact)"
      ]
    },
    {
      "cell_type": "markdown",
      "metadata": {
        "id": "L3_gsvcnoGgs"
      },
      "source": [
        "Функция [`finditer`](https://docs.python.org/3/library/re.html#re.finditer) работает аналогично `findall` , но возвращает итерируемый объект, содержащий объекты совпадений, с отложенным вычислением.\n",
        "\n",
        "При большом количестве совпадений использование `finditer` позволит сэкономить память, потому что она возвращает по одному совпадению, тогда как `findall` возвращает все совпадения сразу:"
      ]
    },
    {
      "cell_type": "code",
      "execution_count": null,
      "metadata": {
        "id": "GXzza_E-oGgs",
        "outputId": "64922083-03a4-4620-cd8e-7e9b14601538"
      },
      "outputs": [
        {
          "name": "stdout",
          "output_type": "stream",
          "text": [
            "555-555-1234\n",
            "555-555-4321\n"
          ]
        }
      ],
      "source": [
        "for phone in re.finditer(r'\\d{3}-\\d{3}-\\d{4}', contact):\n",
        "    print(phone.group())"
      ]
    },
    {
      "cell_type": "markdown",
      "metadata": {
        "id": "0hwGqpfUoGgs"
      },
      "source": [
        "Метасимволы `(` и `)` (круглые скобки) используются *для сохранения подстрок в совпадениях*.\n",
        "\n",
        "Для примера сохраним отдельно имя и адрес электронной почты в тексте строки:"
      ]
    },
    {
      "cell_type": "code",
      "execution_count": null,
      "metadata": {
        "id": "7Ods-Nx4oGgs"
      },
      "outputs": [],
      "source": [
        "text = 'Charlie Cyan, e-mail: demo1@deitel.com'"
      ]
    },
    {
      "cell_type": "code",
      "execution_count": null,
      "metadata": {
        "id": "2XsTTvExoGgt"
      },
      "outputs": [],
      "source": [
        "pattern = r'([A-Z][a-z]+ [A-Z][a-z]+), e-mail: (\\w+@\\w+\\.\\w{3})'"
      ]
    },
    {
      "cell_type": "code",
      "execution_count": null,
      "metadata": {
        "id": "HxXW6oo0oGgt"
      },
      "outputs": [],
      "source": [
        "result = re.search(pattern, text)"
      ]
    },
    {
      "cell_type": "markdown",
      "metadata": {
        "id": "vHLPgO_CoGgt"
      },
      "source": [
        "Регулярное выражение задает две *сохраняемые подстроки*, заключенные в метасимволы `(` и `)` . Эти метасимволы не влияют на то, в каком месте текста строки будет найдено совпадение шаблона, — функция `match` возвращает объект совпадения только в том случае, если совпадение всего шаблона будет найдено в тексте строки.\n",
        "\n",
        "Рассмотрим регулярное выражение по частям:"
      ]
    },
    {
      "cell_type": "markdown",
      "metadata": {
        "id": "y1sd3m3HoGgt"
      },
      "source": [
        "- `'([A-Z][a-z]+ [A-Z][a-z]+)'` совпадает с двумя словами, разделенными пробелом. Каждое слово должно начинаться с буквы верхнего регистра.\n",
        "-  `', e-mail: '` содержит литеральные символы, которые совпадают сами с собой.\n",
        "-  `(\\w+@\\w+\\.\\w{3})` совпадает с простым адресом электронной почты, состоящим из одного или нескольких алфавитно-цифровых символов ( `\\w+` ), символа `@` , одного или нескольких алфавитно-цифровых символов ( `\\w+` ), точки ( `\\.` ) и трех алфавитно-цифровых символов ( `\\w{3}` ). Перед точкой ставится символ `\\` , потому что точка ( `.` ) в регулярных выражениях является метасимволом, совпадающим с одним символом."
      ]
    },
    {
      "cell_type": "markdown",
      "metadata": {
        "id": "zpNMh1PvoGgt"
      },
      "source": [
        "Метод `groups` объекта совпадения возвращает кортеж совпавших подстрок:"
      ]
    },
    {
      "cell_type": "code",
      "execution_count": null,
      "metadata": {
        "id": "s2wMmRkNoGgt",
        "outputId": "41c42d19-56a1-4b34-ce88-26f8310b766c"
      },
      "outputs": [
        {
          "data": {
            "text/plain": [
              "('Charlie Cyan', 'demo1@deitel.com')"
            ]
          },
          "execution_count": 47,
          "metadata": {},
          "output_type": "execute_result"
        }
      ],
      "source": [
        "result.groups()"
      ]
    },
    {
      "cell_type": "markdown",
      "metadata": {
        "id": "R1ilGGRLoGgt"
      },
      "source": [
        "Вы можете обратиться к каждой сохраненной строке, передав целое число методу `group` .\n",
        "\n",
        "Нумерация сохраненных подстрок начинается с `1` (в отличие от индексов списков, которые начинаются с `0`):"
      ]
    }
  ],
  "metadata": {
    "kernelspec": {
      "display_name": "Python 3",
      "language": "python",
      "name": "python3"
    },
    "language_info": {
      "codemirror_mode": {
        "name": "ipython",
        "version": 3
      },
      "file_extension": ".py",
      "mimetype": "text/x-python",
      "name": "python",
      "nbconvert_exporter": "python",
      "pygments_lexer": "ipython3",
      "version": "3.8.2"
    },
    "colab": {
      "provenance": []
    }
  },
  "nbformat": 4,
  "nbformat_minor": 0
}